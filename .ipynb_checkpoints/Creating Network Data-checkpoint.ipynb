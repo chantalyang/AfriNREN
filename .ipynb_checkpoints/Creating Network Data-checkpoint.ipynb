{
 "cells": [
  {
   "cell_type": "markdown",
   "metadata": {},
   "source": [
    "# Creating Random Network Graph Data for ASN Network Graph Visualisation\n",
    "\n",
    "## Format\n",
    "\n",
    "nodes -> (ASN, Country, Org, Continent, Bytes)\n",
    "\n",
    "links -> (src, dst, Bytes, Latency)\n"
   ]
  },
  {
   "cell_type": "code",
   "execution_count": 25,
   "metadata": {
    "collapsed": true
   },
   "outputs": [],
   "source": [
    "import random\n",
    "import json"
   ]
  },
  {
   "cell_type": "code",
   "execution_count": 19,
   "metadata": {
    "collapsed": false
   },
   "outputs": [],
   "source": [
    "ASNs = list(set(['AS%d' % random.randint(1000,50000) for x in range(50)]))\n",
    "Countries = [\"South Africa\", \"Zimbabwe\", \"Kenya\", \"United Kingdom\", \"Netherlands\", \"Nigeria\", \"Botswana\", \"Somalia\"]"
   ]
  },
  {
   "cell_type": "code",
   "execution_count": 22,
   "metadata": {
    "collapsed": true
   },
   "outputs": [],
   "source": [
    "nodes = [{\"ASN\": ASN,\n",
    "        \"Country\": random.choice(Countries),\n",
    "        \"Org\": \"UCT\",\n",
    "        \"Continent\": \"Africa\",\n",
    "        \"Bytes\": random.randint(100000000, 100000000000)\n",
    "        } for ASN in ASNs]"
   ]
  },
  {
   "cell_type": "code",
   "execution_count": 29,
   "metadata": {
    "collapsed": false
   },
   "outputs": [
    {
     "name": "stdout",
     "output_type": "stream",
     "text": [
      "[{'src': 'AS2666', 'dst': 'AS41860', 'Bytes': 586416347, 'Latency': 106}, {'src': 'AS3149', 'dst': 'AS49164', 'Bytes': 404838215, 'Latency': 120}, {'src': 'AS35029', 'dst': 'AS49771', 'Bytes': 210375535, 'Latency': 456}, {'src': 'AS9784', 'dst': 'AS9784', 'Bytes': 144079717, 'Latency': 406}, {'src': 'AS31107', 'dst': 'AS2989', 'Bytes': 273300508, 'Latency': 195}]\n"
     ]
    }
   ],
   "source": [
    "links = [{\"src\": ASN,\n",
    "          \"dst\": random.choice(ASNs),\n",
    "          \"Bytes\": random.randint(10000000, 1000000000),\n",
    "          \"Latency\": random.randint(5, 500)\n",
    "          } for ASN in ASNs]"
   ]
  },
  {
   "cell_type": "code",
   "execution_count": 27,
   "metadata": {
    "collapsed": false
   },
   "outputs": [],
   "source": [
    "nodesjson = json.dumps(nodes)\n",
    "linksjson = json.dumps(links)"
   ]
  },
  {
   "cell_type": "code",
   "execution_count": null,
   "metadata": {
    "collapsed": true
   },
   "outputs": [],
   "source": []
  }
 ],
 "metadata": {
  "kernelspec": {
   "display_name": "Python 2",
   "language": "python",
   "name": "python2"
  },
  "language_info": {
   "codemirror_mode": {
    "name": "ipython",
    "version": 2
   },
   "file_extension": ".py",
   "mimetype": "text/x-python",
   "name": "python",
   "nbconvert_exporter": "python",
   "pygments_lexer": "ipython2",
   "version": "2.7.10"
  }
 },
 "nbformat": 4,
 "nbformat_minor": 0
}
