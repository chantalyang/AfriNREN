{
 "cells": [
  {
   "cell_type": "markdown",
   "metadata": {},
   "source": [
    "Wanting to answer a few questions to understand the importance of knowing more about Sources or Destinations of traffic:\n",
    "- Which are the most common destination ASes? (# of flows)\n",
    "- Which destination ASes are the busiest? (total bytes transferred to)\n",
    "    ~ How similar are these lists?\n",
    "---\n",
    "- Which source ASes are the busiest conversationalists?\n",
    "- How many bytes do they transfer with each of the busiest destinations?\n",
    "- How many bytes do they transfer with their top conversation partners?\n",
    "---"
   ]
  },
  {
   "cell_type": "code",
   "execution_count": 4,
   "metadata": {
    "collapsed": true
   },
   "outputs": [],
   "source": [
    "import os\n",
    "\n",
    "os.environ['DJANGO_SETTINGS_MODULE'] = 'AfriNREN.settings'"
   ]
  },
  {
   "cell_type": "code",
   "execution_count": 5,
   "metadata": {
    "collapsed": false
   },
   "outputs": [],
   "source": [
    "from AfriNREN_Vis.models import Flow\n"
   ]
  },
  {
   "cell_type": "code",
   "execution_count": 11,
   "metadata": {
    "collapsed": false
   },
   "outputs": [],
   "source": [
    "from django.db.models import Sum\n",
    "import json\n",
    "# warmup: Which are the busiest Destination ASes by number of bytes transferred:\n",
    "flows = Flow.objects.values('destination_asn').annotate(total_bytes=Sum('bytes_transferred')).order_by('-total_bytes')\n"
   ]
  },
  {
   "cell_type": "code",
   "execution_count": 18,
   "metadata": {
    "collapsed": false
   },
   "outputs": [],
   "source": [
    "data = list(flows)\n",
    "with open('top-dst-asns-by-bytes-json.txt', 'w') as outfile:\n",
    "    json.dump(data, outfile)\n",
    "with open('top-dst-asns-by-bytes-ASNs-only.txt', 'w') as outfile:\n",
    "    for flow in flows:\n",
    "        outfile.write('%s\\n' % flow['destination_asn'])\n",
    "# data = serializers.serialize('json', flows, fields=('destination_asn','total_bytes'))\n",
    "\n"
   ]
  },
  {
   "cell_type": "code",
   "execution_count": 21,
   "metadata": {
    "collapsed": true
   },
   "outputs": [],
   "source": [
    "# next question: Which are the busiest source ASes by number of bytes transferred:\n",
    "q2flows = Flow.objects.values('source_asn').annotate(total_bytes=Sum('bytes_transferred')).order_by('-total_bytes')\n",
    "q2data = list(q2flows)\n",
    "with open('top-src-asns-by-bytes-json.txt', 'w') as outfile:\n",
    "    json.dump(q2data, outfile)\n",
    "with open('top-src-asns-by-bytes-ASNs-only.txt', 'w') as outfile:\n",
    "    for flow in q2flows:\n",
    "        outfile.write('%s\\n' % flow['source_asn'])"
   ]
  },
  {
   "cell_type": "code",
   "execution_count": 20,
   "metadata": {
    "collapsed": true
   },
   "outputs": [],
   "source": [
    "# now it gets tough: How many bytes did each of the top sources transfer with their top conversation partners?\n",
    "# this first part simply finds the top conversation pairs\n",
    "q3flows = Flow.objects.values('source_asn','destination_asn')\\\n",
    "                      .annotate(total_bytes=Sum('bytes_transferred'))\\\n",
    "                      .order_by('-total_bytes')"
   ]
  },
  {
   "cell_type": "code",
   "execution_count": 22,
   "metadata": {
    "collapsed": true
   },
   "outputs": [],
   "source": [
    "q3data = list(q3flows)\n",
    "with open('top-conversation-pairs-by-bytes-json.txt', 'w') as outfile:\n",
    "    json.dump(q3data, outfile)\n",
    "with open('top-conversation-pairs-by-bytes-ASNs-only.txt', 'w') as outfile:\n",
    "    for flow in q3flows:\n",
    "        outfile.write('%s,%s\\n' % (flow['source_asn'], flow['destination_asn']))"
   ]
  },
  {
   "cell_type": "code",
   "execution_count": 35,
   "metadata": {
    "collapsed": false
   },
   "outputs": [],
   "source": [
    "# quick divergence, let's create visualisation data of the conversation pairs to see what's up\n",
    "ASN_list = []\n",
    "nodes = []\n",
    "links = []\n",
    "for flow in q3flows[:100]:\n",
    "    if flow['source_asn'] not in ASN_list:\n",
    "        ASN_list.append(flow['source_asn'])\n",
    "        nodes.append({\"ASN\": flow['source_asn'], \"Bytes\": flow['total_bytes']})\n",
    "        source_index = len(ASN_list) - 1\n",
    "    else:\n",
    "        source_index = ASN_list.index(flow['source_asn'])\n",
    "        nodes[source_index]['Bytes'] = nodes[source_index]['Bytes'] + flow['total_bytes']\n",
    "    if flow['destination_asn'] not in ASN_list:\n",
    "        ASN_list.append(flow['destination_asn'])\n",
    "        nodes.append({\"ASN\": flow['destination_asn'], \"Bytes\": flow['total_bytes']})\n",
    "        target_index = len(ASN_list) - 1\n",
    "    else:\n",
    "        target_index = ASN_list.index(flow['destination_asn'])\n",
    "        nodes[target_index]['Bytes'] = nodes[target_index]['Bytes'] + flow['total_bytes']\n",
    "    links.append({\"source\": source_index, \"target\": target_index, \"Bytes\": flow['total_bytes']})\n",
    "visdata = {\"nodes\": list(nodes), \"links\": list(links)}\n",
    "with open('top-conversations-graph-vis-data.json', 'w') as outfile:\n",
    "    json.dump(visdata, outfile)"
   ]
  },
  {
   "cell_type": "code",
   "execution_count": null,
   "metadata": {
    "collapsed": true
   },
   "outputs": [],
   "source": []
  }
 ],
 "metadata": {
  "kernelspec": {
   "display_name": "Python 2",
   "language": "python",
   "name": "python2"
  },
  "language_info": {
   "codemirror_mode": {
    "name": "ipython",
    "version": 2
   },
   "file_extension": ".py",
   "mimetype": "text/x-python",
   "name": "python",
   "nbconvert_exporter": "python",
   "pygments_lexer": "ipython2",
   "version": "2.7.10"
  }
 },
 "nbformat": 4,
 "nbformat_minor": 0
}
